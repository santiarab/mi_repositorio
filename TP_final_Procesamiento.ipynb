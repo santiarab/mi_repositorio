{
  "cells": [
    {
      "cell_type": "markdown",
      "metadata": {
        "id": "u2k4xblsAPMq"
      },
      "source": [
        "\n",
        "# Trabajo Practico 3 ***Procesamiento***\n",
        "\n"
      ]
    },
    {
      "cell_type": "markdown",
      "metadata": {
        "id": "m9GNL0EsAT5G"
      },
      "source": [
        "### **Proceso** el data frame de Markets\n"
      ]
    },
    {
      "cell_type": "code",
      "execution_count": 3,
      "metadata": {},
      "outputs": [],
      "source": [
        "import requests\n",
        "import pandas as pd\n",
        "import os\n",
        "from datetime import datetime, timedelta"
      ]
    },
    {
      "cell_type": "code",
      "execution_count": null,
      "metadata": {
        "id": "Dy7wUvHoACRR"
      },
      "outputs": [],
      "source": [
        "df_markets = pd.read_parquet(\"datalake_Santi/raw_date/coincap/markets/markets.parquet\")\n",
        "df_markets = df_markets.dropna(subset=['tradesCount24Hr']) # Elimino las filas cuyo valor de \"tradesCount24Hr\" no representa valor. Son la cantidad de operaciones en las ultimas 24 horas\n",
        "df_markets = df_markets.dropna(subset=['priceUsd'])\n",
        "df_markets = df_markets.dropna(subset=['percentExchangeVolume'])\n",
        "df_markets = df_markets.dropna(subset=['baseId'])\n",
        "df_markets = df_markets.dropna(subset=['exchangeId'])\n",
        "df_market = df_markets.drop_duplicates()\n",
        "df_markets[\"priceUsd\"] = pd.to_numeric(df_markets[\"priceUsd\"])\n",
        "df_markets[\"updated\"] = pd.to_datetime(df_markets[\"updated\"]) #Formateo la fecha a %d-%m-%Y %H:%M\n",
        "df_markets[\"updated\"] = df_markets[\"updated\"].dt.strftime('%d-%m-%Y %H:%M') #Formateo la fecha a %d-%m-%Y %H:%M\n",
        "df_markets['priceUsd'] = df_markets['priceUsd'].astype(float)\n",
        "df_markets['priceUsd'] = df_markets['priceUsd'].round(decimals=4)\n",
        "\n",
        "df_markets_g = df_markets.groupby(\n",
        "     [\"exchangeId\",\"baseId\"],\n",
        "    as_index=False).agg(\n",
        "        {\n",
        "            \"priceUsd\": [\"mean\", \"max\", \"min\"]\n",
        "        }\n",
        ")\n",
        "df_markets_g[\"priceUsd\",\"mean\"] = df_markets_g[\"priceUsd\",\"mean\"].round(decimals=4)\n",
        "df_markets_g"
      ]
    },
    {
      "cell_type": "markdown",
      "metadata": {
        "id": "sjoN4hsqAWLi"
      },
      "source": [
        "### **Proceso** el data frame de Exchanges\n"
      ]
    },
    {
      "cell_type": "code",
      "execution_count": 133,
      "metadata": {
        "id": "F7LPTtvJANSj"
      },
      "outputs": [],
      "source": [
        "df_exchanges = pd.read_parquet(\"datalake_Santi/raw_date/coincap/exchanges\")\n",
        "df_exchanges = df_exchanges.dropna(subset=['percentTotalVolume']) # Elimino las filas cuyo valor de \"Porcentaje Total del volumen\" no representa valor.\n",
        "df_exchanges = df_exchanges.drop_duplicates() #Eliminos las filas duplicadas\n",
        "#Redondeo los valores float a los minimos decimales necesarios\n",
        "df_exchanges['percentTotalVolume'] = df_exchanges['percentTotalVolume'].astype(float)\n",
        "df_exchanges['volumeUsd'] = df_exchanges['volumeUsd'].astype(float)\n",
        "df_exchanges['percentTotalVolume'] = df_exchanges['percentTotalVolume'].round(decimals=7)\n",
        "df_exchanges['volumeUsd'] = df_exchanges['volumeUsd'].round(decimals=5)\n",
        "df_exchanges[\"updated\"] = pd.to_datetime(df_exchanges[\"updated\"]) #Formateo la fecha a %d-%m-%Y %H:%M\n",
        "df_exchanges[\"updated\"] = df_exchanges[\"updated\"].dt.strftime('%d-%m-%Y %H:%M') #Formateo la fecha a %d-%m-%Y %H:%M\n",
        "df_exchanges[\"fecha\"] = pd.to_datetime(df_exchanges[\"fecha\"]) #Formateo la fecha a %d-%m-%Y %H:%M\n",
        "df_exchanges[\"fecha\"] = df_exchanges[\"fecha\"].dt.strftime('%d-%m-%Y') #Formateo la fecha a %d-%m-%Y %H:%M\n",
        "# df_exchanges.head(200)"
      ]
    },
    {
      "cell_type": "markdown",
      "metadata": {
        "id": "GbfsL0l_AZIm"
      },
      "source": [
        "### **Proceso** el data frame de Assets\n"
      ]
    },
    {
      "cell_type": "code",
      "execution_count": null,
      "metadata": {
        "id": "s2NZ-mdvAaxU"
      },
      "outputs": [],
      "source": [
        "df_assets = pd.read_parquet(\"datalake_Santi/raw_date/coincap/assets\")\n",
        "df_assets = df_assets.dropna(subset=['maxSupply']) # Elimino las filas cuyo valor de \"Porcentaje Total del volumen\" no representa valor.\n",
        "df_assets = df_assets.drop_duplicates() #Eliminos las filas duplicadas\n",
        "#Redondeo los valores float a los minimos decimales necesarios\n",
        "df_assets['supply'] = df_assets['supply'].astype(float)\n",
        "df_assets['supply'] = df_assets['supply'].round(decimals=2)\n",
        "df_assets['maxSupply'] = df_assets['maxSupply'].astype(float)\n",
        "df_assets['maxSupply'] = df_assets['maxSupply'].round(decimals=2)\n",
        "df_assets['marketCapUsd'] = df_assets['marketCapUsd'].astype(float)\n",
        "df_assets['marketCapUsd'] = df_assets['marketCapUsd'].round(decimals=2)\n",
        "df_assets['volumeUsd24Hr'] = df_assets['volumeUsd24Hr'].astype(float)\n",
        "df_assets['volumeUsd24Hr'] = df_assets['volumeUsd24Hr'].round(decimals=2)\n",
        "df_assets['priceUsd'] = df_assets['priceUsd'].astype(float)\n",
        "df_assets['priceUsd'] = df_assets['priceUsd'].round(decimals=2)\n",
        "df_assets['changePercent24Hr'] = df_assets['changePercent24Hr'].astype(float)\n",
        "df_assets['changePercent24Hr'] = df_assets['changePercent24Hr'].round(decimals=2)\n",
        "df_assets['vwap24Hr'] = df_assets['vwap24Hr'].astype(float)\n",
        "df_assets['vwap24Hr'] = df_assets['vwap24Hr'].round(decimals=2)\n",
        "df_assets.rename(columns={'id': 'baseId'}, inplace=True)\n",
        "join_assets_markets = pd.merge(df_assets, df_markets, on='baseId', how='inner') #Hago un JOIN entre markets y assets para saber el suministro disponible para el comercio y el volumen negociado en dolares de las ultimas 24 horas\n",
        "join_assets_markets"
      ]
    },
    {
      "cell_type": "markdown",
      "metadata": {
        "id": "POtyrC0YAbch"
      },
      "source": [
        "### **Proceso** el data frame de Concentrations\n"
      ]
    },
    {
      "cell_type": "code",
      "execution_count": null,
      "metadata": {
        "id": "sPZYTwDHAfEl"
      },
      "outputs": [],
      "source": [
        "df_Concentrations = pd.read_parquet(\"datalake_Santi/raw_date/luchtmeetnet/concentrations/N02\")\n",
        "df_Concentrations = df_Concentrations.drop_duplicates() #Eliminos las filas duplicadas\n",
        "df_Concentrations[\"timestamp_measured\"] = pd.to_datetime(df_Concentrations[\"timestamp_measured\"])\n",
        "df_Concentrations[\"timestamp_measured\"] = df_Concentrations[\"timestamp_measured\"].dt.strftime('%d-%m-%Y %H:%M') #Formateo la fecha a %d-%m-%Y %H:%M\n",
        "df_Concentrations[\"fecha\"] = pd.to_datetime(df_Concentrations[\"fecha\"])\n",
        "df_Concentrations[\"fecha\"] = df_Concentrations[\"fecha\"].dt.strftime('%Y-%m-%d') #Formateo la fecha a %d-%m-%Y\n",
        "df_Concentrations['value_is_greater_than_20'] = df_Concentrations['value']>20 #creo una columna que nos indica si el valor de value supera el valor 20\n",
        "df_Concentrations = df_Concentrations.drop(columns=['timestamp_measured'])\n",
        "df_Concentrations"
      ]
    },
    {
      "cell_type": "markdown",
      "metadata": {
        "id": "1FRiFcLnAgIL"
      },
      "source": [
        "## ***Almacenamiento en la Base de datos OLAP asignada***"
      ]
    },
    {
      "cell_type": "code",
      "execution_count": null,
      "metadata": {},
      "outputs": [],
      "source": [
        "!pip install psycopg[binary]\n",
        "!pip install sqlalchemy==1.4.49"
      ]
    },
    {
      "cell_type": "code",
      "execution_count": 140,
      "metadata": {
        "id": "Wu202lD9Aj-q"
      },
      "outputs": [],
      "source": [
        "\n",
        "import sqlalchemy as sa\n",
        "import os\n",
        "from configparser import ConfigParser\n",
        "\n",
        "def connect_to_postgres(config_file_path=\"config.ini\", section=\"postgres\"):\n",
        "    \"\"\"\n",
        "    Establece una conexión a una base de datos postgres\n",
        "    utilizando la configuración especificada en un archivo INI.\n",
        "\n",
        "    Args:\n",
        "        config_file_path (str, optional): Ruta del archivo de configuración INI. Por defecto, \"config.ini\".\n",
        "        section (str, optional): Nombre de la sección en el archivo INI que contiene los datos de conexión. Por defecto, \"postgres\".\n",
        "\n",
        "    Returns:\n",
        "        sqlalchemy.engine.Engine: La conexión a la base de datos de Redshift.\n",
        "    \"\"\"\n",
        "    # Comprobar si el archivo de configuración existe\n",
        "    if not os.path.exists(config_file_path):\n",
        "        raise FileNotFoundError(f\"El archivo de configuración '{config_file_path}' no existe.\")\n",
        "\n",
        "    # Leer la configuración desde el archivo INI\n",
        "    config = ConfigParser()\n",
        "    config.read(config_file_path)\n",
        "    conn_data = config[section]\n",
        "\n",
        "    # Obtener los parámetros de conexión\n",
        "    host = conn_data.get(\"host\")\n",
        "    port = conn_data.get(\"port\")\n",
        "    db = conn_data.get(\"db\")\n",
        "    user = conn_data.get(\"user\")\n",
        "    pwd = conn_data.get(\"pwd\")\n",
        "\n",
        "    url = f\"postgresql://{user}:{pwd}@{host}:{port}/{db}\"\n",
        "\n",
        "    # Establecer la conexión a la base de datos PostgreSQL\n",
        "    conn = sa.create_engine(url)\n",
        "\n",
        "    return conn\n",
        "\n",
        "\n",
        "engine = connect_to_postgres(\"config.ini\") # Me conecto a la base de datos donde voy a realizar la creacion de la tabla"
      ]
    },
    {
      "cell_type": "markdown",
      "metadata": {
        "id": "IFLDKhSRAnRS"
      },
      "source": [
        "### **Creo la tabla para el Data Frame procesado de Concentrations** e introduzco los datos en la tabla\n"
      ]
    },
    {
      "cell_type": "code",
      "execution_count": 124,
      "metadata": {
        "id": "_OkHOi1VAkq-"
      },
      "outputs": [
        {
          "name": "stderr",
          "output_type": "stream",
          "text": [
            "C:\\Users\\Santi\\AppData\\Local\\Temp\\ipykernel_18332\\3467055731.py:2: RemovedIn20Warning: Deprecated API features detected! These feature(s) are not compatible with SQLAlchemy 2.0. To prevent incompatible upgrades prior to updating applications, ensure requirements files are pinned to \"sqlalchemy<2.0\". Set environment variable SQLALCHEMY_WARN_20=1 to show all deprecation warnings.  Set environment variable SQLALCHEMY_SILENCE_UBER_WARNING=1 to silence this message. (Background on SQLAlchemy 2.0 at: https://sqlalche.me/e/b8d9)\n",
            "  engine.execute(\"\"\"\n"
          ]
        },
        {
          "data": {
            "text/plain": [
              "<sqlalchemy.engine.cursor.LegacyCursorResult at 0x2c4533412d0>"
            ]
          },
          "execution_count": 124,
          "metadata": {},
          "output_type": "execute_result"
        }
      ],
      "source": [
        "# formula\tvalue\ttimestamp_measured\tfecha\thora\tvalue_is_greater_than_20\n",
        "engine.execute(\"\"\"\n",
        "               CREATE TABLE IF NOT EXISTS santiagoarab_luchtmeetnet_concentrations(\n",
        "                formula VARCHAR(10),\n",
        "                value FLOAT,\n",
        "                fecha DATE,\n",
        "                hora INT,\n",
        "                value_is_greater_than_20 BOOLEAN,\n",
        "                PRIMARY KEY(formula,fecha,hora)\n",
        "               )\n",
        "               \"\"\")  # Creo la tabla en la base de datos"
      ]
    },
    {
      "cell_type": "code",
      "execution_count": null,
      "metadata": {
        "id": "cUGhC1-2AqPr"
      },
      "outputs": [],
      "source": [
        "engine.execute(\"\"\"\n",
        "                TRUNCATE TABLE santiagoarab_luchtmeetnet_concentrations\n",
        "\n",
        "               \"\"\")\n",
        "df_Concentrations.to_sql(\"santiagoarab_luchtmeetnet_concentrations\", engine,\n",
        "                         method = \"multi\", if_exists = \"append\", index=False)\n",
        "engine.execute(\"\"\"\n",
        "                SELECT * FROM santiagoarab_luchtmeetnet_concentrations\n",
        "               \"\"\").fetchall()"
      ]
    },
    {
      "cell_type": "markdown",
      "metadata": {
        "id": "wI2VqBQgAsji"
      },
      "source": [
        "### Guardo los datos extraido de las tablas restantes usando el formato por defecto que proporciona pandas"
      ]
    },
    {
      "cell_type": "code",
      "execution_count": null,
      "metadata": {
        "id": "d5kH2-YNAuht"
      },
      "outputs": [],
      "source": [
        "engine.execute(\"\"\"\n",
        "                TRUNCATE TABLE santiagoarab_coincap_assets\n",
        "\n",
        "               \"\"\")\n",
        "join_assets_markets.to_sql(\"santiagoarab_coincap_assets\", engine,method = \"multi\", if_exists = \"append\")\n",
        "engine.execute(\"\"\"\n",
        "                SELECT * FROM santiagoarab_coincap_assets\n",
        "               \"\"\").fetchall()"
      ]
    },
    {
      "cell_type": "code",
      "execution_count": null,
      "metadata": {
        "id": "muycxQC1Au98"
      },
      "outputs": [],
      "source": [
        "engine.execute(\"\"\"\n",
        "                TRUNCATE TABLE santiagoarab_coincap_exchanges\n",
        "\n",
        "               \"\"\")\n",
        "df_exchanges.to_sql(\"santiagoarab_coincap_exchanges\", engine,method = \"multi\", if_exists='append')\n",
        "engine.execute(\"\"\"\n",
        "                SELECT * FROM santiagoarab_coincap_exchanges\n",
        "               \"\"\").fetchall()"
      ]
    },
    {
      "cell_type": "code",
      "execution_count": null,
      "metadata": {
        "id": "BEh-VCTYAvLf"
      },
      "outputs": [],
      "source": [
        "engine.execute(\"\"\"\n",
        "                TRUNCATE TABLE santiagoarab_coincap_markets\n",
        "\n",
        "               \"\"\")\n",
        "\n",
        "df_markets_g.to_sql(\"santiagoarab_coincap_markets\", engine ,method = \"multi\", if_exists = \"append\" , index=False)\n",
        "engine.execute(\"\"\"\n",
        "                SELECT * FROM santiagoarab_coincap_markets\n",
        "               \"\"\").fetchall()"
      ]
    }
  ],
  "metadata": {
    "colab": {
      "provenance": []
    },
    "kernelspec": {
      "display_name": "Python 3",
      "name": "python3"
    },
    "language_info": {
      "codemirror_mode": {
        "name": "ipython",
        "version": 3
      },
      "file_extension": ".py",
      "mimetype": "text/x-python",
      "name": "python",
      "nbconvert_exporter": "python",
      "pygments_lexer": "ipython3",
      "version": "3.11.4"
    }
  },
  "nbformat": 4,
  "nbformat_minor": 0
}
