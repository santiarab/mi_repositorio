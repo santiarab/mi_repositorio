{
  "cells": [
    {
      "cell_type": "markdown",
      "metadata": {
        "id": "OT0KZPWD4mTy"
      },
      "source": [
        "# **Trabajo Final**"
      ]
    },
    {
      "cell_type": "markdown",
      "metadata": {
        "id": "bfGDZegy4qgx"
      },
      "source": [
        "# Trabajo Pratico 1 *Extraccion de datos*"
      ]
    },
    {
      "cell_type": "markdown",
      "metadata": {
        "id": "bvoGSahU4wtB"
      },
      "source": [
        "En los siguientes codigo se va a extraer de dos APIs diferentes. Una de las apis se va a generar un codigo para una extraccion FULL y la otra api se va a generar un codigo para una extraccion incremental"
      ]
    },
    {
      "cell_type": "markdown",
      "metadata": {
        "id": "3BQcl4Ir4yus"
      },
      "source": [
        "Importo las libreria que se van a utilizar durante todo el codigo"
      ]
    },
    {
      "cell_type": "code",
      "execution_count": 20,
      "metadata": {
        "id": "iHECiEUL4iuo"
      },
      "outputs": [],
      "source": [
        "import requests\n",
        "import pandas as pd\n",
        "import os\n",
        "from datetime import datetime, timedelta"
      ]
    },
    {
      "cell_type": "markdown",
      "metadata": {
        "id": "fpn5BjvP43tF"
      },
      "source": [
        "En el siguiente codigo se encuentra 2 funciones que se encargan de:\n",
        "\n",
        "\n",
        "*   get_data:\n",
        "        Realizar una solicitud GET a una API para obtener datos. y retornar el JSON de \"data\" o un codigo de error si eso sucede\n",
        "*   build_table\n",
        "        Construir un DataFrame de pandas a partir de datos en formato JSON. y retornar el mismo"
      ]
    },
    {
      "cell_type": "code",
      "execution_count": 70,
      "metadata": {
        "id": "2eDLqqDy47TH"
      },
      "outputs": [],
      "source": [
        "def get_data(base_url, endpoint, params=None):\n",
        "    \"\"\"\n",
        "    Realiza una solicitud GET a una API para obtener datos.\n",
        "\n",
        "    :param base_url: La URL base de la API.\n",
        "    :param endpoint: El endpoint (ruta) de la API para obtener datos específicos.\n",
        "    :param params: Los parámetros de la solicitud GET.\n",
        "    :return: Los datos obtenidos de la API en formato JSON.\n",
        "    \"\"\"\n",
        "    try:\n",
        "        endpoint_url = f\"{base_url}/{endpoint}\"\n",
        "        response = requests.get(endpoint_url, params=params)\n",
        "        response.raise_for_status()  # Levanta una excepción si hay un error en la respuesta HTTP.\n",
        "\n",
        "        # Verificar si los datos están en formato JSON.\n",
        "        try:\n",
        "            data = response.json()\n",
        "            data = data[\"data\"]\n",
        "        except:\n",
        "            print(\"El formato de respuesta no es el esperado\")\n",
        "            return None\n",
        "        return data\n",
        "\n",
        "    except requests.exceptions.RequestException as e:\n",
        "        # Capturar cualquier error de solicitud, como errores HTTP.\n",
        "        print(f\"La petición ha fallado. Código de error : {e}\")\n",
        "        return None\n",
        "\n",
        "def build_table(json_data):\n",
        "    \"\"\"\n",
        "    Construye un DataFrame de pandas a partir de datos en formato JSON.\n",
        "\n",
        "    :param json_data: Los datos en formato JSON obtenidos de la API.\n",
        "    :return: Un DataFrame de pandas con los datos estructurados.\n",
        "    \"\"\"\n",
        "    df = pd.json_normalize(json_data)\n",
        "    return df\n",
        "\n",
        "def save_to_parquet(df, save_path, partition_col=None):\n",
        "    \"\"\"\n",
        "    Guarda un DataFrame en formato Parquet en la ubicación especificada.\n",
        "\n",
        "    Args:\n",
        "        df (pd.DataFrame): El DataFrame que se desea guardar.\n",
        "        save_path (str): La ruta donde se guardará el archivo Parquet.\n",
        "        partition_col (str or list, optional): Columna(s) por la cual particionar los datos en el formato Parquet.\n",
        "\n",
        "    Raises:\n",
        "        TypeError: Si el argumento df no es un DataFrame de pandas.\n",
        "        ValueError: Si partition_col no es None ni una cadena o lista de cadenas.\n",
        "    \"\"\"\n",
        "    # Verificar que df sea un DataFrame\n",
        "    if not isinstance(df, pd.DataFrame):\n",
        "        raise TypeError(\"El argumento 'df' debe ser un DataFrame de pandas.\")\n",
        "\n",
        "    # Verificar el tipo de partition_col\n",
        "    if partition_col is not None and not isinstance(partition_col, (str, list)):\n",
        "        raise ValueError(\"El argumento 'partition_col' debe ser un string o una lista de strings.\")\n",
        "\n",
        "    # Crear el directorio si no existe\n",
        "    directory = os.path.dirname(save_path)\n",
        "    if directory and not os.path.exists(directory):\n",
        "        os.makedirs(directory)\n",
        "\n",
        "    try:\n",
        "        # Guardar el DataFrame en formato Parquet\n",
        "        df.to_parquet(save_path, partition_cols=partition_col)\n",
        "        print(\"DataFrame guardado exitosamente en formato Parquet.\")\n",
        "    except Exception as e:\n",
        "        print(f\"Error al guardar el DataFrame en formato Parquet: {str(e)}\")\n",
        "\n"
      ]
    },
    {
      "cell_type": "markdown",
      "metadata": {
        "id": "rjxooEYL4-sV"
      },
      "source": [
        "EXTRACCION DE DATOS"
      ]
    },
    {
      "cell_type": "markdown",
      "metadata": {
        "id": "gM6inDYS5AtP"
      },
      "source": [
        "Extraccion de datos de manera FULL\n",
        "\n",
        "El siguiente codigo extrae datos de una API la cual nos brinda datos de criptomonedas. Se realiza una extraccion FULL ya que extraemos todos los datos disponible del mismo\n",
        "\n",
        "La siguiente extraccion se realizo en https://docs.coincap.io/#d8fd6001-e127-448d-aadd-bfbfe2c89dbe"
      ]
    },
    {
      "cell_type": "code",
      "execution_count": null,
      "metadata": {
        "id": "6MeECiRl5J2w"
      },
      "outputs": [],
      "source": [
        "url_base = \"https://api.coincap.io/v2\" # Coloco la url base para su luego utilizacion\n",
        "endpoint = \"assets\" # Coloco el endpoint para su luego utilizacion\n",
        "#Obtengo los datos\n",
        "assets = get_data(url_base, endpoint)\n",
        "if assets: # Pregunto si existe y genero el data frame del diccionario extraido\n",
        "  df_assets = build_table(assets)\n",
        "df_assets.head(70) # Imprimo 10 datos obtenidos anteriormente"
      ]
    },
    {
      "cell_type": "markdown",
      "metadata": {
        "id": "FRXpafuU5P3G"
      },
      "source": [
        "Extraccion de datos de manera incremental\n",
        "\n",
        "El siguiente codigo extrae datos de concentracion de una 'formula' y lugar especificado. La extraccion se genera de forma incremental por cada ejecucion del mismo. Generando nuevos resultados por cada hora transcurrida\n",
        "\n",
        "La extraccion se realizo en https://api-docs.luchtmeetnet.nl/"
      ]
    },
    {
      "cell_type": "code",
      "execution_count": null,
      "metadata": {
        "id": "1fCpE7Ns5UVY"
      },
      "outputs": [],
      "source": [
        "endpoint = \"concentrations\"\n",
        "base_url = \"https://api.luchtmeetnet.nl/open_api\"\n",
        "start_date = datetime.utcnow() - timedelta(hours=1)\n",
        "\n",
        "end_date = start_date.strftime(\"%Y-%m-%dT%H:59:59Z\") # Guardo la fecha actual una hora adelantada en el formato requerido por el Provedor del API\n",
        "start_date = start_date.strftime(\"%Y-%m-%dT%H:00:00Z\") # Guardo la fecha actual en el formato requerido por el Provedor del API\n",
        "\n",
        "# Creo un diccionario Params para guardar los parametros requeridos por el API\n",
        "params = {\n",
        "    \"formula\": \"no2\",\n",
        "    \"longitude\": \"4.458807\",\n",
        "    \"latitude\": \"51.924452\",\n",
        "    \"start\": start_date,\n",
        "    \"end\": end_date\n",
        "    }\n",
        "\n",
        "Concentrations = get_data(base_url, endpoint,params) # Obtengo los datos en formato JSON\n",
        "\n",
        "df_Concentrations = build_table(Concentrations) # Le doy un formato mas legible a los datos obtenidos anteriormente\n",
        "\n",
        "df_Concentrations.head() # Imprimo el resultado"
      ]
    },
    {
      "cell_type": "markdown",
      "metadata": {
        "id": "B9PE-oPs5XDI"
      },
      "source": [
        "El siguiente codigo extrae datos de una API la cual nos brinda datos de criptomonedas. Se realiza una extraccion incremental.\n",
        "\n",
        "Se va a extraer los datos de donde se generan los intercambios de las monedas y cuanto representa esto en el mercado del mismo.\n",
        "\n",
        "La siguiente extraccion se realizo en https://docs.coincap.io/#d8fd6001-e127-448d-aadd-bfbfe2c89dbe"
      ]
    },
    {
      "cell_type": "code",
      "execution_count": 24,
      "metadata": {
        "id": "wyLsfWpW5Yne"
      },
      "outputs": [
        {
          "data": {
            "text/html": [
              "<div>\n",
              "<style scoped>\n",
              "    .dataframe tbody tr th:only-of-type {\n",
              "        vertical-align: middle;\n",
              "    }\n",
              "\n",
              "    .dataframe tbody tr th {\n",
              "        vertical-align: top;\n",
              "    }\n",
              "\n",
              "    .dataframe thead th {\n",
              "        text-align: right;\n",
              "    }\n",
              "</style>\n",
              "<table border=\"1\" class=\"dataframe\">\n",
              "  <thead>\n",
              "    <tr style=\"text-align: right;\">\n",
              "      <th></th>\n",
              "      <th>exchangeId</th>\n",
              "      <th>name</th>\n",
              "      <th>rank</th>\n",
              "      <th>percentTotalVolume</th>\n",
              "      <th>volumeUsd</th>\n",
              "      <th>tradingPairs</th>\n",
              "      <th>socket</th>\n",
              "      <th>exchangeUrl</th>\n",
              "      <th>updated</th>\n",
              "    </tr>\n",
              "  </thead>\n",
              "  <tbody>\n",
              "    <tr>\n",
              "      <th>0</th>\n",
              "      <td>binance</td>\n",
              "      <td>Binance</td>\n",
              "      <td>1</td>\n",
              "      <td>49.002643480933881365000000000000000000</td>\n",
              "      <td>3870363025.9556094648391777</td>\n",
              "      <td>833</td>\n",
              "      <td>True</td>\n",
              "      <td>https://www.binance.com/</td>\n",
              "      <td>1693877950682</td>\n",
              "    </tr>\n",
              "    <tr>\n",
              "      <th>1</th>\n",
              "      <td>digifinex</td>\n",
              "      <td>DigiFinex</td>\n",
              "      <td>2</td>\n",
              "      <td>6.229106351076280273000000000000000000</td>\n",
              "      <td>491991884.3833654146176806</td>\n",
              "      <td>143</td>\n",
              "      <td>False</td>\n",
              "      <td>https://www.digifinex.com/</td>\n",
              "      <td>1693877947582</td>\n",
              "    </tr>\n",
              "    <tr>\n",
              "      <th>2</th>\n",
              "      <td>gdax</td>\n",
              "      <td>Coinbase Pro</td>\n",
              "      <td>3</td>\n",
              "      <td>5.767688306368357697000000000000000000</td>\n",
              "      <td>455547823.1473400008887099</td>\n",
              "      <td>298</td>\n",
              "      <td>True</td>\n",
              "      <td>https://pro.coinbase.com/</td>\n",
              "      <td>1693877949865</td>\n",
              "    </tr>\n",
              "    <tr>\n",
              "      <th>3</th>\n",
              "      <td>kraken</td>\n",
              "      <td>Kraken</td>\n",
              "      <td>4</td>\n",
              "      <td>4.561290765257274448000000000000000000</td>\n",
              "      <td>360263240.3974970033152806</td>\n",
              "      <td>343</td>\n",
              "      <td>False</td>\n",
              "      <td>https://kraken.com</td>\n",
              "      <td>1693877949184</td>\n",
              "    </tr>\n",
              "    <tr>\n",
              "      <th>4</th>\n",
              "      <td>gate</td>\n",
              "      <td>Gate</td>\n",
              "      <td>5</td>\n",
              "      <td>3.735963562402067499000000000000000000</td>\n",
              "      <td>295076636.9137683467528058</td>\n",
              "      <td>1284</td>\n",
              "      <td>False</td>\n",
              "      <td>https://gate.io/</td>\n",
              "      <td>1693877950625</td>\n",
              "    </tr>\n",
              "  </tbody>\n",
              "</table>\n",
              "</div>"
            ],
            "text/plain": [
              "  exchangeId          name rank                       percentTotalVolume  \\\n",
              "0    binance       Binance    1  49.002643480933881365000000000000000000   \n",
              "1  digifinex     DigiFinex    2   6.229106351076280273000000000000000000   \n",
              "2       gdax  Coinbase Pro    3   5.767688306368357697000000000000000000   \n",
              "3     kraken        Kraken    4   4.561290765257274448000000000000000000   \n",
              "4       gate          Gate    5   3.735963562402067499000000000000000000   \n",
              "\n",
              "                     volumeUsd tradingPairs socket  \\\n",
              "0  3870363025.9556094648391777          833   True   \n",
              "1   491991884.3833654146176806          143  False   \n",
              "2   455547823.1473400008887099          298   True   \n",
              "3   360263240.3974970033152806          343  False   \n",
              "4   295076636.9137683467528058         1284  False   \n",
              "\n",
              "                  exchangeUrl        updated  \n",
              "0    https://www.binance.com/  1693877950682  \n",
              "1  https://www.digifinex.com/  1693877947582  \n",
              "2   https://pro.coinbase.com/  1693877949865  \n",
              "3          https://kraken.com  1693877949184  \n",
              "4            https://gate.io/  1693877950625  "
            ]
          },
          "execution_count": 24,
          "metadata": {},
          "output_type": "execute_result"
        }
      ],
      "source": [
        "url_base = \"https://api.coincap.io/v2\" # Coloco la url base para su luego utilizacion\n",
        "endpoint = \"exchanges\" # Coloco el endpoint para su luego utilizacion\n",
        "#Obtengo los datos\n",
        "exchanges = get_data(url_base, endpoint)\n",
        "if exchanges: # Pregunto si existe y genero el data frame del diccionario extraido\n",
        "  df_exchanges = build_table(exchanges)\n",
        "df_exchanges.head(5) # Imprimo 10 datos obtenidos anteriormente"
      ]
    },
    {
      "cell_type": "markdown",
      "metadata": {
        "id": "JiAQC-a75a-w"
      },
      "source": [
        "El siguiente codigo extrae datos de una API la cual nos brinda datos de criptomonedas. Se realiza una extraccion incremental.\n",
        "\n",
        "Se va a extraer los datos del mercado de criptomonedas.\n",
        "\n",
        "La siguiente extraccion se realizo en https://docs.coincap.io/#d8fd6001-e127-448d-aadd-bfbfe2c89dbe"
      ]
    },
    {
      "cell_type": "code",
      "execution_count": null,
      "metadata": {
        "id": "sTQFjiBN5bsx"
      },
      "outputs": [],
      "source": [
        "url_base = \"https://api.coincap.io/v2\" # Coloco la url base para su luego utilizacion\n",
        "endpoint = \"markets\" # Coloco el endpoint para su luego utilizacion\n",
        "#Obtengo los datos\n",
        "markets = get_data(url_base, endpoint)\n",
        "if markets: # Pregunto si existe y genero el data frame del diccionario extraido\n",
        "  df_markets = build_table(markets)\n",
        "df_markets.head(10) # Imprimo 10 datos obtenidos anteriormente"
      ]
    },
    {
      "cell_type": "markdown",
      "metadata": {
        "id": "0gyX13V65exX"
      },
      "source": [
        "#Trabajo Practico 2 **Almacenamiento**"
      ]
    },
    {
      "cell_type": "code",
      "execution_count": 26,
      "metadata": {
        "id": "eCNINRqk5iN_"
      },
      "outputs": [
        {
          "name": "stderr",
          "output_type": "stream",
          "text": [
            "ERROR: Invalid requirement: '#'\n"
          ]
        }
      ],
      "source": [
        "!pip install -q fastparquet # Instalo FastParquet para agilizar los tiempos"
      ]
    },
    {
      "cell_type": "code",
      "execution_count": 27,
      "metadata": {
        "id": "VB4XC1ez5jx-"
      },
      "outputs": [],
      "source": [
        "def crear_directorio(dir_nuevo):\n",
        "   directory = os.path.dirname(dir_nuevo) #Obtengo el directorio de dir_nuevo\n",
        "   if directory and not os.path.exists(directory): #Pregunto si existe y si no es una cadena vacia, si cumple la condicion lo creo en caso contrario lo ignoro\n",
        "        os.makedirs(directory) # Creo el directorio si cumple las condiciones"
      ]
    },
    {
      "cell_type": "code",
      "execution_count": 86,
      "metadata": {
        "id": "Amn0Pp1R5kuk"
      },
      "outputs": [],
      "source": [
        "dir_coincap_assets = \"datalake_Santi/raw_date/coincap/assets/\"\n",
        "dir_mediciones = \"datalake_Santi/raw_date/luchtmeetnet/concentrations/N02/\"\n",
        "dir_coincap_exchanges = \"datalake_Santi/raw_date/coincap/exchanges/\"\n",
        "dir_coincap_markets = \"datalake_Santi/raw_date/coincap/markets/\"\n",
        "#Creo la ruta donde se van a almacenar los datos extraidos anteriormente\n",
        "crear_directorio(dir_coincap_assets)\n",
        "crear_directorio(dir_mediciones)\n",
        "crear_directorio(dir_coincap_exchanges)\n",
        "crear_directorio(dir_coincap_markets)"
      ]
    },
    {
      "cell_type": "markdown",
      "metadata": {
        "id": "b306GKhS5xc2"
      },
      "source": [
        "## A continuacion introduzco los data frames extraidos anteriormente en sus respectivos directorios con un formato parquet particionados segun cada uno."
      ]
    },
    {
      "cell_type": "code",
      "execution_count": 29,
      "metadata": {
        "colab": {
          "base_uri": "https://localhost:8080/"
        },
        "id": "jeYLYYy15od4",
        "outputId": "4fc68202-95e6-4250-b7a7-afd353e9038f"
      },
      "outputs": [
        {
          "name": "stdout",
          "output_type": "stream",
          "text": [
            "DataFrame guardado exitosamente en formato Parquet.\n"
          ]
        }
      ],
      "source": [
        "# Guardo los data frames con formato parquet almacenandolos en una carpeta sin hacer particiones\n",
        "save_to_parquet(df_assets,\"datalake_Santi/raw_date/coincap/assets/assets.parquet\")\n",
        "df_assets_pq = pd.read_parquet(\"datalake_Santi/raw_date/coincap/assets/assets.parquet\")"
      ]
    },
    {
      "cell_type": "code",
      "execution_count": 30,
      "metadata": {
        "id": "lHqWW9sV5qcq"
      },
      "outputs": [
        {
          "name": "stdout",
          "output_type": "stream",
          "text": [
            "DataFrame guardado exitosamente en formato Parquet.\n"
          ]
        },
        {
          "data": {
            "text/html": [
              "<div>\n",
              "<style scoped>\n",
              "    .dataframe tbody tr th:only-of-type {\n",
              "        vertical-align: middle;\n",
              "    }\n",
              "\n",
              "    .dataframe tbody tr th {\n",
              "        vertical-align: top;\n",
              "    }\n",
              "\n",
              "    .dataframe thead th {\n",
              "        text-align: right;\n",
              "    }\n",
              "</style>\n",
              "<table border=\"1\" class=\"dataframe\">\n",
              "  <thead>\n",
              "    <tr style=\"text-align: right;\">\n",
              "      <th></th>\n",
              "      <th>formula</th>\n",
              "      <th>value</th>\n",
              "      <th>timestamp_measured</th>\n",
              "      <th>fecha</th>\n",
              "      <th>hora</th>\n",
              "    </tr>\n",
              "  </thead>\n",
              "  <tbody>\n",
              "    <tr>\n",
              "      <th>0</th>\n",
              "      <td>NO2</td>\n",
              "      <td>30.0</td>\n",
              "      <td>2023-09-05 01:00:00+00:00</td>\n",
              "      <td>2023-09-05</td>\n",
              "      <td>1</td>\n",
              "    </tr>\n",
              "    <tr>\n",
              "      <th>1</th>\n",
              "      <td>NO2</td>\n",
              "      <td>30.0</td>\n",
              "      <td>2023-09-05 02:00:00+00:00</td>\n",
              "      <td>2023-09-05</td>\n",
              "      <td>2</td>\n",
              "    </tr>\n",
              "    <tr>\n",
              "      <th>2</th>\n",
              "      <td>NO2</td>\n",
              "      <td>20.0</td>\n",
              "      <td>2023-09-05 03:00:00+00:00</td>\n",
              "      <td>2023-09-05</td>\n",
              "      <td>3</td>\n",
              "    </tr>\n",
              "    <tr>\n",
              "      <th>3</th>\n",
              "      <td>NO2</td>\n",
              "      <td>20.0</td>\n",
              "      <td>2023-09-05 04:00:00+00:00</td>\n",
              "      <td>2023-09-05</td>\n",
              "      <td>4</td>\n",
              "    </tr>\n",
              "    <tr>\n",
              "      <th>4</th>\n",
              "      <td>NO2</td>\n",
              "      <td>20.0</td>\n",
              "      <td>2023-09-05 05:00:00+00:00</td>\n",
              "      <td>2023-09-05</td>\n",
              "      <td>5</td>\n",
              "    </tr>\n",
              "  </tbody>\n",
              "</table>\n",
              "</div>"
            ],
            "text/plain": [
              "  formula  value        timestamp_measured       fecha  hora\n",
              "0     NO2   30.0 2023-09-05 01:00:00+00:00  2023-09-05     1\n",
              "1     NO2   30.0 2023-09-05 02:00:00+00:00  2023-09-05     2\n",
              "2     NO2   20.0 2023-09-05 03:00:00+00:00  2023-09-05     3\n",
              "3     NO2   20.0 2023-09-05 04:00:00+00:00  2023-09-05     4\n",
              "4     NO2   20.0 2023-09-05 05:00:00+00:00  2023-09-05     5"
            ]
          },
          "execution_count": 30,
          "metadata": {},
          "output_type": "execute_result"
        }
      ],
      "source": [
        "df_Concentrations[\"timestamp_measured\"] = pd.to_datetime(df_Concentrations.timestamp_measured)\n",
        "df_Concentrations[\"fecha\"] = df_Concentrations.timestamp_measured.dt.date\n",
        "df_Concentrations[\"hora\"] = df_Concentrations.timestamp_measured.dt.hour\n",
        "#Creo un nuevo data Frame con hora y fecha divido para luego guardarlo como un archivo con formato Parquet y particionarlo por fecha y hora\n",
        "# Creo por cada fecha y hora una carpeta donde guardo los datos de los correspondientes momentos\n",
        "save_to_parquet(df_Concentrations,\"datalake_Santi/raw_date/luchtmeetnet/concentrations/N02\",[\"fecha\"])\n",
        "df_Concentrations_pq = pd.read_parquet(\"datalake_Santi/raw_date/luchtmeetnet/concentrations/N02\")\n",
        "df_Concentrations.head()"
      ]
    },
    {
      "cell_type": "code",
      "execution_count": 67,
      "metadata": {
        "colab": {
          "base_uri": "https://localhost:8080/"
        },
        "id": "zk_e6Rj65sk2",
        "outputId": "e93da0af-87ca-4f90-917f-7f4d66fc6317"
      },
      "outputs": [
        {
          "name": "stdout",
          "output_type": "stream",
          "text": [
            "DataFrame guardado exitosamente en formato Parquet.\n"
          ]
        }
      ],
      "source": [
        "#Creo un nuevo data Frame con fecha divido para luego guardarlo como un archivo con formato Parquet y particionarlo por fecha\n",
        "df_exchanges['updated'] = pd.to_datetime(df_exchanges['updated'], unit = 'ms') #Cambio el formato UNIX timestamp a formato un formato mas estandar\n",
        "df_exchanges['updated'] = pd.to_datetime(df_exchanges.updated)\n",
        "df_exchanges[\"fecha\"] = df_exchanges.updated.dt.date\n",
        "save_to_parquet(df_exchanges,\"datalake_Santi/raw_date/coincap/exchanges\",[\"fecha\"])\n",
        "#df_exchanges.head(5)\n",
        "df_exchanges_pq = pd.read_parquet(\"datalake_Santi/raw_date/coincap/exchanges\")"
      ]
    },
    {
      "cell_type": "code",
      "execution_count": null,
      "metadata": {
        "colab": {
          "base_uri": "https://localhost:8080/"
        },
        "id": "UgVVFh_p5uPX",
        "outputId": "e13b3c99-8b5d-4866-9e11-723c36a2b1b1"
      },
      "outputs": [],
      "source": [
        "df_markets['updated'] = pd.to_datetime(df_markets['updated'], unit = 'ms')\n",
        "df_markets['updated'] = pd.to_datetime(df_markets[\"updated\"])\n",
        "df_markets[\"fecha\"] = df_markets.updated.dt.date\n",
        "df_markets['fecha'] = pd.to_datetime(df_markets[\"fecha\"])\n",
        "save_to_parquet(df_markets,\"datalake_Santi/raw_date/coincap/markets/markets.parquet\")\n",
        "df_markets = pd.read_parquet(\"datalake_Santi/raw_date/coincap/markets/markets.parquet\")\n",
        "df_markets"
      ]
    }
  ],
  "metadata": {
    "colab": {
      "provenance": []
    },
    "kernelspec": {
      "display_name": "Python 3",
      "name": "python3"
    },
    "language_info": {
      "codemirror_mode": {
        "name": "ipython",
        "version": 3
      },
      "file_extension": ".py",
      "mimetype": "text/x-python",
      "name": "python",
      "nbconvert_exporter": "python",
      "pygments_lexer": "ipython3",
      "version": "3.11.4"
    }
  },
  "nbformat": 4,
  "nbformat_minor": 0
}
